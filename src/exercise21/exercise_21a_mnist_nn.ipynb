{
 "cells": [
  {
   "cell_type": "markdown",
   "id": "e17cd99c606adc8e",
   "metadata": {
    "collapsed": false,
    "jupyter": {
     "outputs_hidden": false
    }
   },
   "source": [
    "# Exerceise 21: Simple MNIST NN\n",
    "The following code is a simple neural network that classifies the MNIST dataset. \n",
    "\n",
    "The next cell imports the necessary libraries and the dataset. It runs the neural network and prints some tests."
   ]
  },
  {
   "cell_type": "code",
   "execution_count": 1,
   "id": "b130c2244d4276d2",
   "metadata": {
    "ExecuteTime": {
     "end_time": "2024-03-29T20:24:58.475974Z",
     "start_time": "2024-03-29T20:24:22.899648Z"
    },
    "collapsed": false,
    "jupyter": {
     "outputs_hidden": false
    }
   },
   "outputs": [
    {
     "name": "stdout",
     "output_type": "stream",
     "text": [
      "Iteration:  0\n",
      "[2 3 0 ... 6 8 3] [1 5 1 ... 7 6 9]\n",
      "0.0713170731707317\n",
      "Iteration:  10\n",
      "[2 8 0 ... 3 8 3] [1 5 1 ... 7 6 9]\n",
      "0.15117073170731707\n",
      "Iteration:  20\n",
      "[2 8 0 ... 3 8 8] [1 5 1 ... 7 6 9]\n",
      "0.20624390243902438\n",
      "Iteration:  30\n",
      "[2 8 0 ... 3 8 8] [1 5 1 ... 7 6 9]\n",
      "0.2491219512195122\n",
      "Iteration:  40\n",
      "[8 8 8 ... 3 8 8] [1 5 1 ... 7 6 9]\n",
      "0.28785365853658534\n",
      "Iteration:  50\n",
      "[8 8 8 ... 3 8 8] [1 5 1 ... 7 6 9]\n",
      "0.348780487804878\n",
      "Iteration:  60\n",
      "[8 8 8 ... 3 6 8] [1 5 1 ... 7 6 9]\n",
      "0.4145853658536585\n",
      "Iteration:  70\n",
      "[8 8 8 ... 4 6 8] [1 5 1 ... 7 6 9]\n",
      "0.48809756097560975\n",
      "Iteration:  80\n",
      "[1 8 1 ... 4 6 8] [1 5 1 ... 7 6 9]\n",
      "0.550219512195122\n",
      "Iteration:  90\n",
      "[1 8 1 ... 4 6 9] [1 5 1 ... 7 6 9]\n",
      "0.5970243902439024\n",
      "Iteration:  100\n",
      "[1 8 1 ... 7 6 9] [1 5 1 ... 7 6 9]\n",
      "0.6325365853658537\n",
      "Iteration:  110\n",
      "[1 8 1 ... 7 6 9] [1 5 1 ... 7 6 9]\n",
      "0.6596585365853659\n",
      "Iteration:  120\n",
      "[1 4 1 ... 7 6 4] [1 5 1 ... 7 6 9]\n",
      "0.681609756097561\n",
      "Iteration:  130\n",
      "[1 4 1 ... 7 6 4] [1 5 1 ... 7 6 9]\n",
      "0.6976341463414634\n",
      "Iteration:  140\n",
      "[1 4 1 ... 7 6 4] [1 5 1 ... 7 6 9]\n",
      "0.7113170731707317\n",
      "Iteration:  150\n",
      "[1 4 1 ... 7 6 4] [1 5 1 ... 7 6 9]\n",
      "0.7243414634146341\n",
      "Iteration:  160\n",
      "[1 4 1 ... 7 6 4] [1 5 1 ... 7 6 9]\n",
      "0.7349512195121951\n",
      "Iteration:  170\n",
      "[1 4 1 ... 7 6 4] [1 5 1 ... 7 6 9]\n",
      "0.7437560975609756\n",
      "Iteration:  180\n",
      "[1 4 1 ... 7 6 4] [1 5 1 ... 7 6 9]\n",
      "0.7513414634146341\n",
      "Iteration:  190\n",
      "[1 4 1 ... 7 6 4] [1 5 1 ... 7 6 9]\n",
      "0.7588536585365854\n",
      "Iteration:  200\n",
      "[1 4 1 ... 7 6 4] [1 5 1 ... 7 6 9]\n",
      "0.7651951219512195\n",
      "Iteration:  210\n",
      "[1 4 1 ... 7 6 4] [1 5 1 ... 7 6 9]\n",
      "0.7708780487804878\n",
      "Iteration:  220\n",
      "[1 4 1 ... 7 6 4] [1 5 1 ... 7 6 9]\n",
      "0.7753414634146342\n",
      "Iteration:  230\n",
      "[1 4 1 ... 7 6 4] [1 5 1 ... 7 6 9]\n",
      "0.779390243902439\n",
      "Iteration:  240\n",
      "[1 4 1 ... 7 6 4] [1 5 1 ... 7 6 9]\n",
      "0.7837317073170732\n",
      "Iteration:  250\n",
      "[1 4 1 ... 7 6 4] [1 5 1 ... 7 6 9]\n",
      "0.788\n",
      "Iteration:  260\n",
      "[1 4 1 ... 7 6 4] [1 5 1 ... 7 6 9]\n",
      "0.7921707317073171\n",
      "Iteration:  270\n",
      "[1 4 1 ... 7 6 4] [1 5 1 ... 7 6 9]\n",
      "0.7955853658536586\n",
      "Iteration:  280\n",
      "[1 4 1 ... 7 6 4] [1 5 1 ... 7 6 9]\n",
      "0.7989756097560976\n",
      "Iteration:  290\n",
      "[1 4 1 ... 7 6 4] [1 5 1 ... 7 6 9]\n",
      "0.8015365853658537\n",
      "Iteration:  300\n",
      "[1 4 1 ... 7 6 4] [1 5 1 ... 7 6 9]\n",
      "0.8043658536585366\n",
      "Iteration:  310\n",
      "[1 4 1 ... 7 6 4] [1 5 1 ... 7 6 9]\n",
      "0.8072439024390244\n",
      "Iteration:  320\n",
      "[1 4 1 ... 7 6 4] [1 5 1 ... 7 6 9]\n",
      "0.809829268292683\n",
      "Iteration:  330\n",
      "[1 4 1 ... 7 6 4] [1 5 1 ... 7 6 9]\n",
      "0.812219512195122\n",
      "Iteration:  340\n",
      "[1 4 1 ... 7 6 4] [1 5 1 ... 7 6 9]\n",
      "0.8149268292682926\n",
      "Iteration:  350\n",
      "[1 4 1 ... 7 6 4] [1 5 1 ... 7 6 9]\n",
      "0.8166829268292682\n",
      "Iteration:  360\n",
      "[1 4 1 ... 7 6 4] [1 5 1 ... 7 6 9]\n",
      "0.8184878048780487\n",
      "Iteration:  370\n",
      "[1 4 1 ... 7 6 4] [1 5 1 ... 7 6 9]\n",
      "0.8206585365853658\n",
      "Iteration:  380\n",
      "[1 4 1 ... 7 6 4] [1 5 1 ... 7 6 9]\n",
      "0.8222195121951219\n",
      "Iteration:  390\n",
      "[1 4 1 ... 7 6 4] [1 5 1 ... 7 6 9]\n",
      "0.8240731707317073\n",
      "Iteration:  400\n",
      "[1 4 1 ... 7 6 4] [1 5 1 ... 7 6 9]\n",
      "0.8257073170731707\n",
      "Iteration:  410\n",
      "[1 4 1 ... 7 6 4] [1 5 1 ... 7 6 9]\n",
      "0.8272926829268292\n",
      "Iteration:  420\n",
      "[1 4 1 ... 7 6 4] [1 5 1 ... 7 6 9]\n",
      "0.8287560975609756\n",
      "Iteration:  430\n",
      "[1 4 1 ... 7 6 4] [1 5 1 ... 7 6 9]\n",
      "0.8301219512195122\n",
      "Iteration:  440\n",
      "[1 4 1 ... 7 6 4] [1 5 1 ... 7 6 9]\n",
      "0.8313414634146341\n",
      "Iteration:  450\n",
      "[1 4 1 ... 7 6 4] [1 5 1 ... 7 6 9]\n",
      "0.8324146341463414\n",
      "Iteration:  460\n",
      "[1 4 1 ... 7 6 4] [1 5 1 ... 7 6 9]\n",
      "0.8339268292682926\n",
      "Iteration:  470\n",
      "[1 4 1 ... 7 6 4] [1 5 1 ... 7 6 9]\n",
      "0.8351219512195122\n",
      "Iteration:  480\n",
      "[1 4 1 ... 7 6 4] [1 5 1 ... 7 6 9]\n",
      "0.836170731707317\n",
      "Iteration:  490\n",
      "[1 4 1 ... 7 6 4] [1 5 1 ... 7 6 9]\n",
      "0.8374634146341463\n",
      "Prediction:  [1]\n",
      "Label:  1\n",
      "Prediction:  [4]\n",
      "Label:  5\n",
      "Prediction:  [1]\n",
      "Label:  1\n",
      "Prediction:  [7]\n",
      "Label:  7\n"
     ]
    }
   ],
   "source": [
    "from simple_ml import *"
   ]
  },
  {
   "cell_type": "code",
   "execution_count": 2,
   "id": "d47474b27bab1d1c",
   "metadata": {
    "ExecuteTime": {
     "end_time": "2024-03-29T20:24:58.487309Z",
     "start_time": "2024-03-29T20:24:58.483627Z"
    },
    "collapsed": false,
    "jupyter": {
     "outputs_hidden": false
    }
   },
   "outputs": [
    {
     "name": "stdout",
     "output_type": "stream",
     "text": [
      "[4]\n"
     ]
    }
   ],
   "source": [
    "i1 = im1__4__\n",
    "print(call__make_predictions(i1))"
   ]
  },
  {
   "cell_type": "code",
   "execution_count": 3,
   "id": "ca3c15aebbc62617",
   "metadata": {
    "ExecuteTime": {
     "end_time": "2024-03-29T20:24:58.514255Z",
     "start_time": "2024-03-29T20:24:58.502180Z"
    },
    "collapsed": false,
    "jupyter": {
     "outputs_hidden": false
    }
   },
   "outputs": [
    {
     "name": "stdout",
     "output_type": "stream",
     "text": [
      "Original:  [4]\n",
      "With noise added:  [4]\n"
     ]
    }
   ],
   "source": [
    "in1, _ = call__make_predictions__adding__noise(i1, 5.0)"
   ]
  },
  {
   "cell_type": "code",
   "execution_count": 4,
   "id": "b3e35cbeb5c31f88",
   "metadata": {
    "ExecuteTime": {
     "end_time": "2024-03-29T20:24:58.525839Z",
     "start_time": "2024-03-29T20:24:58.518822Z"
    },
    "collapsed": false,
    "jupyter": {
     "outputs_hidden": false
    }
   },
   "outputs": [
    {
     "name": "stdout",
     "output_type": "stream",
     "text": [
      "Checking noise scale: 5.0\n",
      "Original:  [4]\n",
      "With noise added:  [4]\n",
      "------------------------------\n",
      "Checking noise scale: 10.0\n",
      "Original:  [4]\n",
      "With noise added:  [4]\n",
      "------------------------------\n",
      "Checking noise scale: 15.0\n",
      "Original:  [4]\n",
      "With noise added:  [9]\n",
      "------------------------------\n"
     ]
    }
   ],
   "source": [
    "noise_scale = 5.0\n",
    "while True:\n",
    "    print(f'Checking noise scale: {noise_scale}')\n",
    "    in1, prediction = call__make_predictions__adding__noise(i1, noise_scale)\n",
    "    print('-' * 30)\n",
    "    if prediction != 4:\n",
    "        break\n",
    "    noise_scale += 5.0"
   ]
  },
  {
   "cell_type": "markdown",
   "id": "887b297e52c68c91",
   "metadata": {
    "collapsed": false,
    "jupyter": {
     "outputs_hidden": false
    }
   },
   "source": [
    "Show the image with noise"
   ]
  },
  {
   "cell_type": "code",
   "execution_count": 5,
   "id": "157ec13182211998",
   "metadata": {
    "ExecuteTime": {
     "end_time": "2024-03-29T20:24:58.653267Z",
     "start_time": "2024-03-29T20:24:58.535556Z"
    },
    "collapsed": false,
    "jupyter": {
     "outputs_hidden": false
    }
   },
   "outputs": [
    {
     "data": {
      "text/plain": [
       "(-0.5, 27.5, 27.5, -0.5)"
      ]
     },
     "execution_count": 5,
     "metadata": {},
     "output_type": "execute_result"
    },
    {
     "data": {
      "image/png": "[encoded data removed]",
      "text/plain": [
       "<Figure size 640x480 with 1 Axes>"
      ]
     },
     "metadata": {},
     "output_type": "display_data"
    }
   ],
   "source": [
    "plt.figure()\n",
    "plt.imshow(in1.reshape((28,28)), cmap='gray')\n",
    "plt.axis('off')"
   ]
  },
  {
   "cell_type": "markdown",
   "id": "a6d92b9954bb037",
   "metadata": {
    "collapsed": false,
    "jupyter": {
     "outputs_hidden": false
    }
   },
   "source": [
    "Save the image with noise"
   ]
  },
  {
   "cell_type": "code",
   "execution_count": 6,
   "id": "14f20858d6ee83ad",
   "metadata": {
    "ExecuteTime": {
     "end_time": "2024-03-29T20:24:58.664494Z",
     "start_time": "2024-03-29T20:24:58.657863Z"
    },
    "collapsed": false,
    "jupyter": {
     "outputs_hidden": false
    }
   },
   "outputs": [
    {
     "data": {
      "text/plain": [
       "True"
      ]
     },
     "execution_count": 6,
     "metadata": {},
     "output_type": "execute_result"
    }
   ],
   "source": [
    "cv2.imwrite('im1__4__noisy.pgm', in1.reshape((28,28)))"
   ]
  },
  {
   "cell_type": "code",
   "execution_count": 7,
   "id": "a73386629b5e172f",
   "metadata": {
    "ExecuteTime": {
     "end_time": "2024-03-29T20:24:58.681083Z",
     "start_time": "2024-03-29T20:24:58.667091Z"
    },
    "collapsed": false,
    "jupyter": {
     "outputs_hidden": false
    }
   },
   "outputs": [
    {
     "name": "stdout",
     "output_type": "stream",
     "text": [
      "Before filtering:  [9]\n",
      "After filtering:  [4]\n"
     ]
    }
   ],
   "source": [
    "if1, _ = call__make_predictions__with__filtering(in1)"
   ]
  },
  {
   "cell_type": "markdown",
   "id": "5b1ac263eaa2f8f2",
   "metadata": {
    "collapsed": false,
    "jupyter": {
     "outputs_hidden": false
    }
   },
   "source": [
    "Show the image with noise and filtering"
   ]
  },
  {
   "cell_type": "code",
   "execution_count": 8,
   "id": "e269618ec41869b2",
   "metadata": {
    "ExecuteTime": {
     "end_time": "2024-03-29T20:24:58.739019Z",
     "start_time": "2024-03-29T20:24:58.694035Z"
    },
    "collapsed": false,
    "jupyter": {
     "outputs_hidden": false
    }
   },
   "outputs": [
    {
     "data": {
      "text/plain": [
       "(-0.5, 27.5, 27.5, -0.5)"
      ]
     },
     "execution_count": 8,
     "metadata": {},
     "output_type": "execute_result"
    },
    {
     "data": {
      "image/png": "[encoded data removed]",
      "text/plain": [
       "<Figure size 640x480 with 1 Axes>"
      ]
     },
     "metadata": {},
     "output_type": "display_data"
    }
   ],
   "source": [
    "plt.figure()\n",
    "plt.imshow(if1.reshape((28,28)), cmap='gray')\n",
    "plt.axis('off')"
   ]
  },
  {
   "cell_type": "markdown",
   "id": "7ddd23a867ea6303",
   "metadata": {
    "collapsed": false,
    "jupyter": {
     "outputs_hidden": false
    }
   },
   "source": [
    "Save the image with noise and filtering"
   ]
  },
  {
   "cell_type": "code",
   "execution_count": 9,
   "id": "35abc5238e653fea",
   "metadata": {
    "ExecuteTime": {
     "end_time": "2024-03-29T20:24:58.744101Z",
     "start_time": "2024-03-29T20:24:58.740496Z"
    },
    "collapsed": false,
    "jupyter": {
     "outputs_hidden": false
    }
   },
   "outputs": [
    {
     "data": {
      "text/plain": [
       "True"
      ]
     },
     "execution_count": 9,
     "metadata": {},
     "output_type": "execute_result"
    }
   ],
   "source": [
    "cv2.imwrite('im1__4__filtered.pgm', if1.reshape((28,28)))"
   ]
  }
 ],
 "metadata": {
  "authors": [
   {
    "name": "Sergio Marín Sánchez"
   }
  ],
  "kernelspec": {
   "display_name": "Python 3 (ipykernel)",
   "language": "python",
   "name": "python3"
  },
  "language_info": {
   "codemirror_mode": {
    "name": "ipython",
    "version": 3
   },
   "file_extension": ".py",
   "mimetype": "text/x-python",
   "name": "python",
   "nbconvert_exporter": "python",
   "pygments_lexer": "ipython3",
   "version": "3.12.0"
  },
  "title": "Exerceise 21: Simple MNIST NN"
 },
 "nbformat": 4,
 "nbformat_minor": 5
}
